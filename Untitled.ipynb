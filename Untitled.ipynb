{
 "cells": [
  {
   "cell_type": "code",
   "execution_count": 11,
   "metadata": {},
   "outputs": [],
   "source": [
    "from math import *\n",
    "import random\n",
    "import numpy as np\n",
    "import matplotlib.pyplot as plt\n",
    "%matplotlib inline"
   ]
  },
  {
   "cell_type": "code",
   "execution_count": 12,
   "metadata": {},
   "outputs": [],
   "source": [
    "class robot:\n",
    "    def __init__(self):\n",
    "        self.x = random.random() * world_size  # initialise with random\n",
    "        self.y = random.random() * world_size\n",
    "        self.orientation = random.random() * 2.0 * pi\n",
    "        \n",
    "        self.forward_noise = 0.0\n",
    "        self.turn_noise    = 0.0\n",
    "        self.sense_noise   = 0.0\n",
    "        \n",
    "        \n",
    "    def set(self, new_x, new_y, new_orientation):\n",
    "            if new_x < 0 or new_x >= world_size:\n",
    "                raise ValueError('X coordinate out of bound')\n",
    "            if new_y < 0 or new_y >= world_size:\n",
    "                raise ValueError('Y coordinate out of bound')\n",
    "            if new_orientation < 0 or new_orientation >= 2 * pi:\n",
    "                raise ValueError('Orientation must be in [0..2pi]')\n",
    "            self.x = float(new_x)\n",
    "            self.y = float(new_y)\n",
    "            self.orientation = float(new_orientation)\n",
    "\n",
    "            \n",
    "    def set_noise(self, new_f_noise, new_t_noise, new_s_noise):\n",
    "        # makes it possible to change the noise parameters\n",
    "        # this is often useful in particle filters\n",
    "        self.forward_noise = float(new_f_noise);\n",
    "        self.turn_noise    = float(new_t_noise);\n",
    "        self.sense_noise   = float(new_s_noise);\n",
    "        \n",
    "        \n",
    "    def sense(self):\n",
    "        Z = []\n",
    "        for i in range(len(landmarks)):\n",
    "            dist = sqrt((self.x - landmarks[i][0]) ** 2 + (self.y - landmarks[i][1]) ** 2)\n",
    "            dist += random.gauss(0.0, self.sense_noise)\n",
    "            Z.append(dist)\n",
    "        return Z\n",
    "    \n",
    "    \n",
    "    def move(self, turn, forward):\n",
    "        if forward < 0:\n",
    "            raise ValueError('Robot cant move backwards')\n",
    "        \n",
    "        # turn, and add randomness to the turning command\n",
    "        orientation = self.orientation + float(turn) + random.gauss(0.0, self.turn_noise)\n",
    "        orientation %= 2 * pi\n",
    "        \n",
    "        # move, and add randomness to the motion command\n",
    "        dist = float(forward) + random.gauss(0.0, self.forward_noise)\n",
    "        x = self.x + (cos(orientation) * dist)\n",
    "        y = self.y + (sin(orientation) * dist)\n",
    "        x %= world_size    # cyclic truncate\n",
    "        y %= world_size\n",
    "        \n",
    "        # set particle\n",
    "        res = robot()\n",
    "        res.set(x, y, orientation)\n",
    "        res.set_noise(self.forward_noise, self.turn_noise, self.sense_noise)\n",
    "        return res\n",
    "    \n",
    "    \n",
    "    def Gaussian(self, mu, sigma, x):\n",
    "        # calculates the probability of x for 1-dim Gaussian with mean mu and var. sigma\n",
    "        return exp(- ((mu - x) ** 2) / (sigma ** 2) / 2.0) / sqrt(2.0 * pi * (sigma ** 2))\n",
    "    \n",
    "    \n",
    "    def measurement_prob(self, measurement):\n",
    "        # calculates how likely a measurement should be\n",
    "        prob = 1.0\n",
    "        for i in range(len(landmarks)):\n",
    "            dist = sqrt((self.x - landmarks[i][0]) ** 2 + (self.y - landmarks[i][1]) ** 2)\n",
    "            prob *= self.Gaussian(dist, self.sense_noise, measurement[i])\n",
    "        return prob\n",
    "    \n",
    "    \n",
    "    def __repr__(self):\n",
    "        return '[x=%.6s y=%.6s orient=%.6s]' % (str(self.x), str(self.y), str(self.orientation))"
   ]
  },
  {
   "cell_type": "code",
   "execution_count": 13,
   "metadata": {},
   "outputs": [],
   "source": [
    "def create_target(forward_noise, turn_noise, sense_noise):\n",
    "    target = robot()\n",
    "    target.set_noise(forward_noise, turn_noise, sense_noise)\n",
    "    target.set(30., 50., pi/2)\n",
    "    return target\n",
    "\n",
    "\n",
    "def create_particles(num_particles):\n",
    "    # initialise randomly guessed particles\n",
    "    particles = []\n",
    "    \n",
    "    for i in range(num_particles):\n",
    "        x = robot()\n",
    "        x.set_noise(0.05, 0.05, 5.0)\n",
    "        particles.append(x)\n",
    "    return particles\n",
    "    \n",
    "    \n",
    "def run_simulation(target, particles, runs, step_size, turn_size):\n",
    "    N = len(particles)\n",
    "\n",
    "    \n",
    "    for rd in range(runs):\n",
    "        plot_world(target, particles, rd, True)\n",
    "        target = target.move(turn_size, step_size)\n",
    "        Z = target.sense()\n",
    "\n",
    "        particles_moved = []\n",
    "        for i in range(N):\n",
    "            # turn 0.1 and move 5 meters\n",
    "            particles_moved.append(particles[i].move(turn_size, step_size))\n",
    "        particles = particles_moved\n",
    "\n",
    "        # given the particle's location, how likely measure it as Z\n",
    "        particle_prob = []\n",
    "\n",
    "        for particle in particles:\n",
    "            prob = particle.measurement_prob(Z)  # Z remains the same\n",
    "            particle_prob.append(prob)\n",
    "\n",
    "#       resampling particles based on probability weights\n",
    "        resampled_particles = []\n",
    "        index = int(random.random()*N)\n",
    "        beta = 0\n",
    "        mw = max(particle_prob)\n",
    "\n",
    "        for i in range(N):\n",
    "            beta += random.random() * 2.2 * mw\n",
    "            while beta > particle_prob[index]:\n",
    "                beta -= particle_prob[index]\n",
    "                index = (index + 1)%N\n",
    "            resampled_particles.append(particles[index])\n",
    "\n",
    "        particles = resampled_particles"
   ]
  },
  {
   "cell_type": "code",
   "execution_count": 14,
   "metadata": {},
   "outputs": [],
   "source": [
    "def plot_world(target, particles, run_no=1, show=True):\n",
    "    landmark_x = []\n",
    "    landmark_y = []\n",
    "    particles_x = []\n",
    "    particles_y = []\n",
    "    \n",
    "    plot_text = f\"Run  {run_no+1}\"\n",
    "    for i in range(len(landmarks)):\n",
    "        landmark_x.append(landmarks[i][0])\n",
    "        landmark_y.append(landmarks[i][1])\n",
    "        \n",
    "    for particle in particles:\n",
    "        particles_x.append(particle.x)\n",
    "        particles_y.append(particle.y)\n",
    "        \n",
    "    plt.scatter(landmark_x, landmark_y, color=\"b\", marker='s')\n",
    "    particles_plot = plt.gca()\n",
    "    particles_plot.scatter(particles_x, particles_y, color=\"r\")\n",
    "    target_plot = plt.gca()\n",
    "    \n",
    "    if target:\n",
    "        target_plot.scatter(target.x, target.y, color=\"g\")\n",
    "        \n",
    "    plt.xlim(0, world_size)\n",
    "    plt.ylim(0, world_size)\n",
    "    plt.text(1, 1, plot_text, fontsize=15)\n",
    "    plt.xlabel(\"x-direction\")\n",
    "    plt.ylabel(\"y-direction\")\n",
    "    plt.savefig(f'snap_{run_no}.png', bbox_inches='tight')\n",
    "    camera.snap()"
   ]
  },
  {
   "cell_type": "code",
   "execution_count": 8,
   "metadata": {},
   "outputs": [
    {
     "data": {
      "image/png": "[encoded data removed]",
      "text/plain": [
       "<Figure size 432x288 with 1 Axes>"
      ]
     },
     "metadata": {
      "needs_background": "light"
     },
     "output_type": "display_data"
    }
   ],
   "source": [
    "from celluloid import Camera\n",
    "from matplotlib import animation\n",
    "\n",
    "camera = Camera(plt.figure())\n",
    "\n",
    "# Define environment\n",
    "landmarks  = [[20.0, 20.0], [80.0, 80.0], [20.0, 80.0], [80.0, 20.0]]\n",
    "world_size = 100.0\n",
    "\n",
    "# Create target with sensor noise\n",
    "forward_noise = 4.0  # The noise of the forward measuring sensor (m)\n",
    "turn_noise = 0.2  # The turn noise of the sensor (radians)\n",
    "sense_noise = 5.0  # The noise of the distance measuring sensor (m)\n",
    "target = create_target(forward_noise, turn_noise, sense_noise) # Create a target \n",
    "\n",
    "\n",
    "# Create particles\n",
    "num_particles=20 # Define the number of particles to be used\n",
    "particles = create_particles(num_particles) # Create a list of particles \n",
    "\n",
    "\n",
    "# Set simulation parameters and simulate \n",
    "runs = 10\n",
    "step_size = 1\n",
    "turn_size = 0.4\n",
    "run_simulation(target, particles, runs, step_size, turn_size)\n",
    "\n",
    "\n",
    "# Create GIF\n",
    "anim = camera.animate(blit=False)\n",
    "writergif = animation.PillowWriter(fps=2) \n",
    "anim.save('scatter_2.gif', writer=writergif)"
   ]
  },
  {
   "cell_type": "code",
   "execution_count": 9,
   "metadata": {},
   "outputs": [
    {
     "data": {
      "image/png": "[encoded data removed]",
      "text/plain": [
       "<Figure size 432x288 with 1 Axes>"
      ]
     },
     "metadata": {
      "needs_background": "light"
     },
     "output_type": "display_data"
    }
   ],
   "source": [
    "particle_single = []\n",
    "x = robot()\n",
    "x.set_noise(0.05, 0.05, 5.0)\n",
    "particle_single.append(x)\n",
    "plot_world(target, particle_single, 0)"
   ]
  },
  {
   "cell_type": "code",
   "execution_count": 10,
   "metadata": {},
   "outputs": [
    {
     "name": "stdout",
     "output_type": "stream",
     "text": [
      "0.00034229200601550483\n"
     ]
    }
   ],
   "source": [
    "\n",
    "target_measurement = [28.954898, 55.8679245,  53.9708025, 29.2746963]# \n",
    "mu = 12.445\n",
    "x = 28.9548\n",
    "sigma = 5\n",
    "result = exp(- ((mu - x) ** 2) / (sigma ** 2) / 2.0) / sqrt(2.0 * pi * (sigma ** 2))\n",
    "print(result)"
   ]
  },
  {
   "cell_type": "code",
   "execution_count": 1,
   "metadata": {},
   "outputs": [
    {
     "ename": "NameError",
     "evalue": "name 'random' is not defined",
     "output_type": "error",
     "traceback": [
      "\u001b[0;31m---------------------------------------------------------------------------\u001b[0m",
      "\u001b[0;31mNameError\u001b[0m                                 Traceback (most recent call last)",
      "\u001b[0;32m<ipython-input-1-201e92204e7a>\u001b[0m in \u001b[0;36m<module>\u001b[0;34m\u001b[0m\n\u001b[1;32m     45\u001b[0m \u001b[0mname\u001b[0m \u001b[0;34m=\u001b[0m \u001b[0;34m[\u001b[0m\u001b[0;34m'Kay'\u001b[0m\u001b[0;34m,\u001b[0m \u001b[0;34m'Jim'\u001b[0m\u001b[0;34m,\u001b[0m \u001b[0;34m'Cathal'\u001b[0m\u001b[0;34m,\u001b[0m \u001b[0;34m'Aine'\u001b[0m\u001b[0;34m,\u001b[0m \u001b[0;34m'Ailis'\u001b[0m\u001b[0;34m,\u001b[0m \u001b[0;34m'James'\u001b[0m\u001b[0;34m]\u001b[0m\u001b[0;34m\u001b[0m\u001b[0;34m\u001b[0m\u001b[0m\n\u001b[1;32m     46\u001b[0m \u001b[0;34m\u001b[0m\u001b[0m\n\u001b[0;32m---> 47\u001b[0;31m \u001b[0mrandom\u001b[0m\u001b[0;34m.\u001b[0m\u001b[0mshuffle\u001b[0m\u001b[0;34m(\u001b[0m\u001b[0mhorses\u001b[0m\u001b[0;34m)\u001b[0m\u001b[0;34m\u001b[0m\u001b[0;34m\u001b[0m\u001b[0m\n\u001b[0m\u001b[1;32m     48\u001b[0m \u001b[0mrandom\u001b[0m\u001b[0;34m.\u001b[0m\u001b[0mshuffle\u001b[0m\u001b[0;34m(\u001b[0m\u001b[0mnames\u001b[0m\u001b[0;34m)\u001b[0m\u001b[0;34m\u001b[0m\u001b[0;34m\u001b[0m\u001b[0m\n",
      "\u001b[0;31mNameError\u001b[0m: name 'random' is not defined"
     ]
    }
   ],
   "source": [
    "horses = [\n",
    "    ('28', 'Cloth Cap', '11/2'),\n",
    "    ('7', 'Burrows Saint', '8/1'),\n",
    "    ('15', 'Any Second Now', '9/1'),\n",
    "    ('35', 'Minella Times', '9/1'),\n",
    "    ('8', 'Magic Light', '14/1'),\n",
    "    ('19', 'Takingrisks', '14/1'),\n",
    "    ('26', 'Discorama', '14/1'),\n",
    "    ('14', 'Kimberlite Candy', '16/1'),\n",
    "    ('13', 'Mister Malarky', '20/1'),\n",
    "    ('34', 'Farclas', '20/1'),\n",
    "    ('23', 'Potters Corner', '22/1'),\n",
    "    ('9', 'Acapella Bourgeois','25/1'),\n",
    "    ('1', 'Bristol De Mai', '28/1'),\n",
    "    ('12', 'Anibale Fly', '28/1'),\n",
    "    ('5', 'Definitely Red', '40/1'),\n",
    "    ('10', 'Talkischeap', '40/1'),\n",
    "    ('22', 'Lord Du Mesnil', '40/1'),\n",
    "    ('25', 'Milan Native', '40/1'),\n",
    "    ('2', 'Chriss Dream', '50/1'),\n",
    "    ('3', 'Yala Enki', '50/1'),\n",
    "    ('20', 'Shattered Love', '50/1'),\n",
    "    ('24', 'Class Conti', '50/1'),\n",
    "    ('32', 'The Long Mile', '50/1'),\n",
    "    ('33', 'Give Me A Copper', '50/1'),\n",
    "    ('36', 'Sub Lieutenant', '50/1'),\n",
    "    ('40', 'Blaklion', '50/1'),\n",
    "    ('6', 'Lake View Lad', '66/1'),\n",
    "    ('27', 'View Lion Rouge', '66/1'),\n",
    "    ('31', 'Canelo', '66/2'),\n",
    "    ('17', 'Alpha Des Obeaux', '80/1'),\n",
    "    ('18', 'Ok Corral', '80/1'),\n",
    "    ('29', 'Cabaret Queen', '80/1'),\n",
    "    ('4', 'Ballyoptic', '100/1'),\n",
    "    ('16', 'Balko Des Flos', '100/1'),\n",
    "    ('21', 'Jett', '100/1'),\n",
    "    ('30', 'Minellacelebration', '100/1'),\n",
    "    ('37', 'Hogans Height', '100/1'),\n",
    "    ('38', 'Double Shuffle', '100/1'),\n",
    "    ('39', 'Ami Desbois', '100/1'),\n",
    "    ('11', 'Tout Est Permis', '125/1'),\n",
    "\n",
    "]\n",
    "\n",
    "name = ['Kay', 'Jim', 'Cathal', 'Aine', 'Ailis', 'James']\n",
    "\n",
    "random.shuffle(horses)\n",
    "random.shuffle(names)"
   ]
  },
  {
   "cell_type": "code",
   "execution_count": 2,
   "metadata": {},
   "outputs": [
    {
     "ename": "NameError",
     "evalue": "name 'names' is not defined",
     "output_type": "error",
     "traceback": [
      "\u001b[0;31m---------------------------------------------------------------------------\u001b[0m",
      "\u001b[0;31mNameError\u001b[0m                                 Traceback (most recent call last)",
      "\u001b[0;32m<ipython-input-2-9a249e4716cd>\u001b[0m in \u001b[0;36m<module>\u001b[0;34m\u001b[0m\n\u001b[1;32m      2\u001b[0m \u001b[0;32mwhile\u001b[0m \u001b[0mlen\u001b[0m\u001b[0;34m(\u001b[0m\u001b[0mhorses\u001b[0m\u001b[0;34m)\u001b[0m\u001b[0;34m>\u001b[0m\u001b[0;36m0\u001b[0m\u001b[0;34m:\u001b[0m\u001b[0;34m\u001b[0m\u001b[0;34m\u001b[0m\u001b[0m\n\u001b[1;32m      3\u001b[0m     selection.append({\n\u001b[0;32m----> 4\u001b[0;31m         \u001b[0;34m'name'\u001b[0m\u001b[0;34m:\u001b[0m \u001b[0mnames\u001b[0m\u001b[0;34m[\u001b[0m\u001b[0;36m0\u001b[0m\u001b[0;34m]\u001b[0m\u001b[0;34m,\u001b[0m\u001b[0;34m\u001b[0m\u001b[0;34m\u001b[0m\u001b[0m\n\u001b[0m\u001b[1;32m      5\u001b[0m         \u001b[0;34m'horse'\u001b[0m\u001b[0;34m:\u001b[0m \u001b[0mhorses\u001b[0m\u001b[0;34m[\u001b[0m\u001b[0;36m0\u001b[0m\u001b[0;34m]\u001b[0m\u001b[0;34m\u001b[0m\u001b[0;34m\u001b[0m\u001b[0m\n\u001b[1;32m      6\u001b[0m     })\n",
      "\u001b[0;31mNameError\u001b[0m: name 'names' is not defined"
     ]
    }
   ],
   "source": [
    "selection = []\n",
    "while len(horses)>0: \n",
    "    selection.append({\n",
    "        'name': names[0],\n",
    "        'horse': horses[0]\n",
    "    })\n",
    "\n",
    "    names.append(names.pop(names.index(names[0])))\n",
    "    horses.remove(horses[0])\n",
    "    random.shuffle(horses)"
   ]
  },
  {
   "cell_type": "code",
   "execution_count": 3,
   "metadata": {},
   "outputs": [
    {
     "ename": "KeyError",
     "evalue": "'name'",
     "output_type": "error",
     "traceback": [
      "\u001b[0;31m---------------------------------------------------------------------------\u001b[0m",
      "\u001b[0;31mKeyError\u001b[0m                                  Traceback (most recent call last)",
      "\u001b[0;32m<ipython-input-3-c6e1eb96b9af>\u001b[0m in \u001b[0;36m<module>\u001b[0;34m\u001b[0m\n\u001b[1;32m      2\u001b[0m \u001b[0;34m\u001b[0m\u001b[0m\n\u001b[1;32m      3\u001b[0m \u001b[0mdf\u001b[0m \u001b[0;34m=\u001b[0m \u001b[0mpd\u001b[0m\u001b[0;34m.\u001b[0m\u001b[0mDataFrame\u001b[0m\u001b[0;34m(\u001b[0m\u001b[0mselection\u001b[0m\u001b[0;34m)\u001b[0m\u001b[0;34m\u001b[0m\u001b[0;34m\u001b[0m\u001b[0m\n\u001b[0;32m----> 4\u001b[0;31m \u001b[0mdf\u001b[0m \u001b[0;34m=\u001b[0m \u001b[0mdf\u001b[0m\u001b[0;34m.\u001b[0m\u001b[0msort_values\u001b[0m\u001b[0;34m(\u001b[0m\u001b[0mby\u001b[0m\u001b[0;34m=\u001b[0m\u001b[0;34m'name'\u001b[0m\u001b[0;34m)\u001b[0m\u001b[0;34m\u001b[0m\u001b[0;34m\u001b[0m\u001b[0m\n\u001b[0m\u001b[1;32m      5\u001b[0m \u001b[0mprint\u001b[0m\u001b[0;34m(\u001b[0m\u001b[0mdf\u001b[0m\u001b[0;34m.\u001b[0m\u001b[0mto_string\u001b[0m\u001b[0;34m(\u001b[0m\u001b[0mindex\u001b[0m\u001b[0;34m=\u001b[0m\u001b[0;32mFalse\u001b[0m\u001b[0;34m)\u001b[0m\u001b[0;34m)\u001b[0m\u001b[0;34m\u001b[0m\u001b[0;34m\u001b[0m\u001b[0m\n",
      "\u001b[0;32m~/.pyenv/versions/3.8.0/lib/python3.8/site-packages/pandas/core/frame.py\u001b[0m in \u001b[0;36msort_values\u001b[0;34m(self, by, axis, ascending, inplace, kind, na_position, ignore_index, key)\u001b[0m\n\u001b[1;32m   5296\u001b[0m \u001b[0;34m\u001b[0m\u001b[0m\n\u001b[1;32m   5297\u001b[0m             \u001b[0mby\u001b[0m \u001b[0;34m=\u001b[0m \u001b[0mby\u001b[0m\u001b[0;34m[\u001b[0m\u001b[0;36m0\u001b[0m\u001b[0;34m]\u001b[0m\u001b[0;34m\u001b[0m\u001b[0;34m\u001b[0m\u001b[0m\n\u001b[0;32m-> 5298\u001b[0;31m             \u001b[0mk\u001b[0m \u001b[0;34m=\u001b[0m \u001b[0mself\u001b[0m\u001b[0;34m.\u001b[0m\u001b[0m_get_label_or_level_values\u001b[0m\u001b[0;34m(\u001b[0m\u001b[0mby\u001b[0m\u001b[0;34m,\u001b[0m \u001b[0maxis\u001b[0m\u001b[0;34m=\u001b[0m\u001b[0maxis\u001b[0m\u001b[0;34m)\u001b[0m\u001b[0;34m\u001b[0m\u001b[0;34m\u001b[0m\u001b[0m\n\u001b[0m\u001b[1;32m   5299\u001b[0m \u001b[0;34m\u001b[0m\u001b[0m\n\u001b[1;32m   5300\u001b[0m             \u001b[0;31m# need to rewrap column in Series to apply key function\u001b[0m\u001b[0;34m\u001b[0m\u001b[0;34m\u001b[0m\u001b[0;34m\u001b[0m\u001b[0m\n",
      "\u001b[0;32m~/.pyenv/versions/3.8.0/lib/python3.8/site-packages/pandas/core/generic.py\u001b[0m in \u001b[0;36m_get_label_or_level_values\u001b[0;34m(self, key, axis)\u001b[0m\n\u001b[1;32m   1561\u001b[0m             \u001b[0mvalues\u001b[0m \u001b[0;34m=\u001b[0m \u001b[0mself\u001b[0m\u001b[0;34m.\u001b[0m\u001b[0maxes\u001b[0m\u001b[0;34m[\u001b[0m\u001b[0maxis\u001b[0m\u001b[0;34m]\u001b[0m\u001b[0;34m.\u001b[0m\u001b[0mget_level_values\u001b[0m\u001b[0;34m(\u001b[0m\u001b[0mkey\u001b[0m\u001b[0;34m)\u001b[0m\u001b[0;34m.\u001b[0m\u001b[0m_values\u001b[0m\u001b[0;34m\u001b[0m\u001b[0;34m\u001b[0m\u001b[0m\n\u001b[1;32m   1562\u001b[0m         \u001b[0;32melse\u001b[0m\u001b[0;34m:\u001b[0m\u001b[0;34m\u001b[0m\u001b[0;34m\u001b[0m\u001b[0m\n\u001b[0;32m-> 1563\u001b[0;31m             \u001b[0;32mraise\u001b[0m \u001b[0mKeyError\u001b[0m\u001b[0;34m(\u001b[0m\u001b[0mkey\u001b[0m\u001b[0;34m)\u001b[0m\u001b[0;34m\u001b[0m\u001b[0;34m\u001b[0m\u001b[0m\n\u001b[0m\u001b[1;32m   1564\u001b[0m \u001b[0;34m\u001b[0m\u001b[0m\n\u001b[1;32m   1565\u001b[0m         \u001b[0;31m# Check for duplicates\u001b[0m\u001b[0;34m\u001b[0m\u001b[0;34m\u001b[0m\u001b[0;34m\u001b[0m\u001b[0m\n",
      "\u001b[0;31mKeyError\u001b[0m: 'name'"
     ]
    }
   ],
   "source": [
    "import pandas as pd\n",
    "\n",
    "df = pd.DataFrame(selection)\n",
    "df = df.sort_values(by='name')\n",
    "print(df.to_string(index=False))"
   ]
  },
  {
   "cell_type": "code",
   "execution_count": null,
   "metadata": {},
   "outputs": [],
   "source": []
  },
  {
   "cell_type": "code",
   "execution_count": null,
   "metadata": {},
   "outputs": [],
   "source": []
  }
 ],
 "metadata": {
  "kernelspec": {
   "display_name": "Python 3",
   "language": "python",
   "name": "python3"
  },
  "language_info": {
   "codemirror_mode": {
    "name": "ipython",
    "version": 3
   },
   "file_extension": ".py",
   "mimetype": "text/x-python",
   "name": "python",
   "nbconvert_exporter": "python",
   "pygments_lexer": "ipython3",
   "version": "3.8.0"
  }
 },
 "nbformat": 4,
 "nbformat_minor": 4
}
